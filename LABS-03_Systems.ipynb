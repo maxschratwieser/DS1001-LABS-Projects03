{
 "cells": [
  {
   "cell_type": "markdown",
   "id": "f11f3ba9",
   "metadata": {},
   "source": [
    "# LABS-3: Systems Project\n",
    "\n",
    "In this notebook you will run a few cells to ensure that your environment is properly set up.\n"
   ]
  },
  {
   "cell_type": "code",
   "execution_count": null,
   "id": "9074b8b7",
   "metadata": {},
   "outputs": [],
   "source": [
    "## First cell\n",
    "# run this for step 11 in your instructions\n",
    "\n",
    "print(\"Hello, World!\")"
   ]
  },
  {
   "cell_type": "code",
   "execution_count": null,
   "id": "4c242432",
   "metadata": {},
   "outputs": [],
   "source": [
    "## Second cell\n",
    "# run this for step 14 in your instructions\n",
    "\n",
    "import pandas as pd"
   ]
  },
  {
   "cell_type": "code",
   "execution_count": 5,
   "id": "bb9cb781",
   "metadata": {},
   "outputs": [],
   "source": [
    "## Part 3: Accessing your data\n",
    "# edit this code to load your data into your workspace\n",
    "\n",
    "data = pd.read_csv(\"imdb_movies.csv\") #add your data file path to this line!\n",
    "data.head()"
   ]
  }
 ],
 "metadata": {
  "kernelspec": {
   "display_name": ".venv",
   "language": "python",
   "name": "python3"
  },
  "language_info": {
   "codemirror_mode": {
    "name": "ipython",
    "version": 3
   },
   "file_extension": ".py",
   "mimetype": "text/x-python",
   "name": "python",
   "nbconvert_exporter": "python",
   "pygments_lexer": "ipython3",
   "version": "3.12.1"
  }
 },
 "nbformat": 4,
 "nbformat_minor": 5
}
